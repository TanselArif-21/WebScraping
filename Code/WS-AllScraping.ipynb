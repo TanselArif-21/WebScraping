{
 "cells": [
  {
   "cell_type": "markdown",
   "metadata": {},
   "source": [
    "# Web Scraper"
   ]
  },
  {
   "cell_type": "markdown",
   "metadata": {},
   "source": [
    "## Versions"
   ]
  },
  {
   "cell_type": "code",
   "execution_count": 1,
   "metadata": {},
   "outputs": [
    {
     "name": "stdout",
     "output_type": "stream",
     "text": [
      "Python version: 3.6.4\n"
     ]
    }
   ],
   "source": [
    "import platform\n",
    "\n",
    "print('Python version: {}'.format(platform.python_version()))"
   ]
  },
  {
   "cell_type": "markdown",
   "metadata": {},
   "source": [
    "## Import Libraries"
   ]
  },
  {
   "cell_type": "code",
   "execution_count": 2,
   "metadata": {},
   "outputs": [],
   "source": [
    "from lxml import html\n",
    "import requests\n",
    "import pandas as pd\n",
    "import time"
   ]
  },
  {
   "cell_type": "markdown",
   "metadata": {},
   "source": [
    "## Functions"
   ]
  },
  {
   "cell_type": "code",
   "execution_count": 3,
   "metadata": {},
   "outputs": [],
   "source": [
    "def findStars(x,site):\n",
    "    if site.lower() == 'tripadvisor':\n",
    "        x2 = str(x).replace('>', ' ').split()\n",
    "        if ('bubble_5\"' in x2):\n",
    "            return 0.5\n",
    "        elif ('bubble_10\"' in x2):\n",
    "            return 1\n",
    "        elif ('bubble_15\"' in x2):\n",
    "            return 1.5\n",
    "        elif ('bubble_20\"' in x2):\n",
    "            return 2\n",
    "        elif ('bubble_25\"' in x2):\n",
    "            return 2.5\n",
    "        elif ('bubble_30\"' in x2):\n",
    "            return 3\n",
    "        elif ('bubble_35\"' in x2):\n",
    "            return 3.5\n",
    "        elif ('bubble_40\"' in x2):\n",
    "            return 4\n",
    "        elif ('bubble_45\"' in x2):\n",
    "            return 4.5\n",
    "        elif ('bubble_50\"' in x2):\n",
    "            return 5\n",
    "        else:\n",
    "            return 0\n",
    "    elif site.lower() == 'yelp':\n",
    "        x2 = str(x)\n",
    "        if ('0.5 star' in x2):\n",
    "            return 0.5\n",
    "        elif ('1.0 star' in x2):\n",
    "            return 1\n",
    "        elif ('1.5 star' in x2):\n",
    "            return 1.5\n",
    "        elif ('2.0 star' in x2):\n",
    "            return 2\n",
    "        elif ('2.5 star' in x2):\n",
    "            return 2.5\n",
    "        elif ('3.0 star' in x2):\n",
    "            return 3\n",
    "        elif ('3.5 star' in x2):\n",
    "            return 3.5\n",
    "        elif ('4.0 star' in x2):\n",
    "            return 4\n",
    "        elif ('4.5 star' in x2):\n",
    "            return 4.5\n",
    "        elif ('5.0 star' in x2):\n",
    "            return 5\n",
    "        else:\n",
    "            return 0\n",
    "\n",
    "# Diagnostics\n",
    "def diagnostics(silent,*args):\n",
    "    '''\n",
    "    This function checks that the lists given as arguments are of equal sizes\n",
    "    args: An arbitrary number of lists\n",
    "    silent: A boolean indicating whether diagnostic results are to be displayed\n",
    "    '''\n",
    "    \n",
    "    if not silent:\n",
    "        print('Diagnostics: Checking if dataframes are of equal size...')\n",
    "    [print('Size: {}'.format(len(i))) for i in args if not silent]\n",
    "    \n",
    "    l = len(args[0])\n",
    "    \n",
    "    for i in args:\n",
    "        if len(i) != l:\n",
    "            if not silent:\n",
    "                print('Unequal Sizes!')\n",
    "            return False\n",
    "    if not silent:\n",
    "        print('Diagnostics complete!')\n",
    "    return True\n",
    "\n",
    "def webscrape(url, site, silent):\n",
    "    '''\n",
    "    This functioni scrapes relevant review tags from a website url\n",
    "    url: A string url\n",
    "    site: A string indicating the site name to be scraped\n",
    "    silent: A boolean indicating whether diagnostic results are to be displayed\n",
    "    '''\n",
    "    # A variable to store the success of the read\n",
    "    success = False\n",
    "\n",
    "    # Get the request object from the server\n",
    "    page = requests.get(url)\n",
    "    \n",
    "    # Convert the request content to an html object\n",
    "    top = html.fromstring(page.content)\n",
    "    \n",
    "    # These are the class names\n",
    "    rev_class_1 = ''\n",
    "    rev_class_2 = ''\n",
    "    rat_class = ''\n",
    "    title_class = ''\n",
    "    dat_class = ''\n",
    "    dat_class_2 = ''\n",
    "    \n",
    "    if site.lower() == 'tripadvisor':\n",
    "        rev_class_1 = 'innerBubble'\n",
    "        rev_class_2 = 'entry'\n",
    "        rat_class = 'review-container'\n",
    "        titl_class = 'noQuotes'\n",
    "        dat_class = 'ratingDate'\n",
    "        \n",
    "        # Get all the innerBubble classes which contain the reviews as well as \n",
    "        # any responses to these reviews\n",
    "        reviews = top.find_class(rev_class_1)\n",
    "        \n",
    "        # Loop through the reviews\n",
    "        reviews_array = []\n",
    "            \n",
    "        for i in reviews:\n",
    "            reviews_array.append((i.find_class(rev_class_2)[0]).text_content())\n",
    "        \n",
    "        # Get all the review containers\n",
    "        ratings=top.find_class(rat_class)\n",
    "\n",
    "        # Within each review container is a class, the name of \n",
    "        # which determines the rating to display\n",
    "        # We use the findStars function to determine the rating \n",
    "        # from the class name\n",
    "        ratings_array = []\n",
    "        for i in ratings:\n",
    "            ratings_array.append(findStars(html.tostring(i),site))\n",
    "        \n",
    "        # The titles of the reviews are within the 'noQuotes' tags\n",
    "        titles=top.find_class(titl_class)\n",
    "\n",
    "        # Get the titles\n",
    "        titles_array = []\n",
    "        for i in titles:\n",
    "            titles_array.append(i.text_content())\n",
    "        \n",
    "        # Get the rating date tags\n",
    "        dates=top.find_class(dat_class)\n",
    "\n",
    "        # Get the dates\n",
    "        dates_array=[]\n",
    "        for i in dates:\n",
    "            dates_array.append(i.text_content())\n",
    "            \n",
    "        # Diagnostics\n",
    "        success = diagnostics(silent,ratings_array,reviews_array,\\\n",
    "                              dates_array,titles_array)\n",
    "        \n",
    "    elif site.lower() == 'yelp':\n",
    "        rev_class_1 = 'review-content'\n",
    "        rev_class_2 = 'p'\n",
    "        rat_class = 'biz-rating'\n",
    "        dat_class_2 = 'rating-qualifier'\n",
    "        \n",
    "        # Get all the innerBubble classes which contain the reviews as well as \n",
    "        # any responses to these reviews\n",
    "        reviews = top.find_class(rev_class_1)\n",
    "        \n",
    "        # Loop through the reviews\n",
    "        reviews_array = []\n",
    "            \n",
    "        for i in reviews:\n",
    "            reviews_array.append(i.find(rev_class_2).text_content())\n",
    "        \n",
    "        # Set empty the titles\n",
    "        titles_array = reviews_array.copy()\n",
    "        \n",
    "        # Within each review-content is a class called biz-rating, the name of \n",
    "        # which determines the rating to display\n",
    "        # We use the findStars function to determine the rating from the class name\n",
    "        ratings_array = []\n",
    "\n",
    "        for i in [getattr(i,'find_class')(rat_class)[0] for i in reviews]:\n",
    "            ratings_array.append(findStars(html.tostring(i),'yelp'))   \n",
    "        \n",
    "        # Get the dates. When a review is updated, the word updated review is present\n",
    "        # in the dates string\n",
    "        dates_array=[]\n",
    "        for i in reviews:\n",
    "            dates_array.append((i.find_class(dat_class_2)[0].text_content()).\\\n",
    "                               replace('Updated review','').lstrip().rstrip())\n",
    "        \n",
    "        # Diagnostics\n",
    "        success = diagnostics(silent,ratings_array,reviews_array,dates_array)\n",
    "        \n",
    "    else:\n",
    "        print('The site {} is not supported'.format(site))\n",
    "        return False\n",
    "\n",
    "    # Convert to a dataframe\n",
    "    df_review = pd.DataFrame(reviews_array, columns=['Review'])\n",
    "    df_ratings = pd.DataFrame(ratings_array, columns=['Rating'])\n",
    "    df_titles = pd.DataFrame(titles_array, columns=['title'])\n",
    "    df_reviewdates = pd.DataFrame(dates_array, columns=['date'])\n",
    "    \n",
    "    # Consolidate into a dataframe\n",
    "    df_fullreview = pd.concat([df_review,df_titles,df_ratings['Rating'],\\\n",
    "                               df_reviewdates],axis=1)\n",
    "    df_fullreview.dropna(inplace=True)\n",
    "    \n",
    "    # Combine review and title into a single column\n",
    "    df_fullreview['fullreview'] = df_fullreview['Review'] + ' ' + df_fullreview['title']\n",
    "\n",
    "    return df_fullreview,success\n",
    "\n",
    "def fullscraper(site, first_url, url1, url2, increment_string1, increment_string2,\\\n",
    "                total_pages, increment, output_file):\n",
    "    '''\n",
    "    This function increments the site url to the next page according to update \n",
    "    criteria and scrapes that page. The full url of subsequent pages is \n",
    "    url = url1 + increment_string1 + url2 + increment_string2. \n",
    "    In cases of error in reading information, attempts are made to re-read data.\n",
    "    first_url: A string url. The main url page\n",
    "    url1, url2: The static parts of the urls that do not change in incrementation\n",
    "    increment_string1, increment_string2: The parts of the url that change\n",
    "    total_pages: The number of total pages. Integer\n",
    "    output_file: The file name to output. If empty string, it doesn't save a file\n",
    "    site: A string indicating the site name to be scraped\n",
    "    '''\n",
    "    success = False\n",
    "    \n",
    "    # Main data frame\n",
    "    df = pd.DataFrame()\n",
    "    \n",
    "    # Progress output\n",
    "    print('Getting reviews ' + str(0)+'/ '+str(total_pages))\n",
    "    \n",
    "    # url incrementation differs per website\n",
    "    if site.lower() in ['tripadvisor','yelp']:\n",
    "        while not success:\n",
    "            df,success = webscrape(first_url,site,False)\n",
    "            if not success:\n",
    "                print('Error in reading - Re-reading')\n",
    "                \n",
    "            # Wait for 1 second\n",
    "            time.sleep(1)\n",
    "                \n",
    "        print('Getting reviews ' + str(1)+'/ '+str(total_pages))\n",
    "        \n",
    "        for i in range(1,total_pages):\n",
    "            success = False\n",
    "            url_temp = url1 + increment_string1 + str(i*increment) +\\\n",
    "            increment_string2 + url2\n",
    "            \n",
    "            if (i%10 == 0) or (i == total_pages):\n",
    "                while not success:\n",
    "                    df_temp,success = webscrape(url_temp,site,False)\n",
    "                    if not success:\n",
    "                        print('Error in reading - Re-reading')\n",
    "                        \n",
    "                    # Wait for 1 second\n",
    "                    time.sleep(1)\n",
    "            else:\n",
    "                while not success:\n",
    "                    df_temp,success = webscrape(url_temp,site,True)\n",
    "                    if not success:\n",
    "                        print('Error in reading - Re-reading')\n",
    "                        \n",
    "                    # Wait for 1 second\n",
    "                    time.sleep(1)\n",
    "            \n",
    "            # Build the dataframe\n",
    "            df = pd.concat([df,df_temp])\n",
    "            \n",
    "            # Print progress\n",
    "            print('Getting reviews ' + str(i+1)+'/ '+str(total_pages))\n",
    "        print('Complete!!!')\n",
    "    \n",
    "    return df.reset_index().iloc[:,1:]"
   ]
  },
  {
   "cell_type": "markdown",
   "metadata": {},
   "source": [
    "## Examples"
   ]
  },
  {
   "cell_type": "markdown",
   "metadata": {},
   "source": [
    "### Web Scrape one page from tripadvisor"
   ]
  },
  {
   "cell_type": "code",
   "execution_count": 4,
   "metadata": {},
   "outputs": [
    {
     "name": "stdout",
     "output_type": "stream",
     "text": [
      "Diagnostics: Checking if dataframes are of equal size...\n",
      "Size: 10\n",
      "Size: 10\n",
      "Size: 10\n",
      "Size: 10\n",
      "Diagnostics complete!\n"
     ]
    }
   ],
   "source": [
    "df,success = webscrape(\"https://www.tripadvisor.co.uk/Restaurant_Review-g186338-\\\n",
    "d2570383-Reviews-Cafe_in_the_Crypt-London_England.html\",'tripadvisor',False)"
   ]
  },
  {
   "cell_type": "code",
   "execution_count": 21,
   "metadata": {},
   "outputs": [
    {
     "data": {
      "text/html": [
       "<div>\n",
       "<style scoped>\n",
       "    .dataframe tbody tr th:only-of-type {\n",
       "        vertical-align: middle;\n",
       "    }\n",
       "\n",
       "    .dataframe tbody tr th {\n",
       "        vertical-align: top;\n",
       "    }\n",
       "\n",
       "    .dataframe thead th {\n",
       "        text-align: right;\n",
       "    }\n",
       "</style>\n",
       "<table border=\"1\" class=\"dataframe\">\n",
       "  <thead>\n",
       "    <tr style=\"text-align: right;\">\n",
       "      <th></th>\n",
       "      <th>Review</th>\n",
       "      <th>title</th>\n",
       "      <th>Rating</th>\n",
       "      <th>date</th>\n",
       "      <th>fullreview</th>\n",
       "    </tr>\n",
       "  </thead>\n",
       "  <tbody>\n",
       "    <tr>\n",
       "      <th>0</th>\n",
       "      <td>Awesome in all regards. Unpretentious, fun, wa...</td>\n",
       "      <td>Awesome in all regards. Unpretentious, fun, wa...</td>\n",
       "      <td>5</td>\n",
       "      <td>30/11/2018</td>\n",
       "      <td>Awesome in all regards. Unpretentious, fun, wa...</td>\n",
       "    </tr>\n",
       "    <tr>\n",
       "      <th>1</th>\n",
       "      <td>We were so happy when we called (last minute) ...</td>\n",
       "      <td>We were so happy when we called (last minute) ...</td>\n",
       "      <td>4</td>\n",
       "      <td>5/1/2019</td>\n",
       "      <td>We were so happy when we called (last minute) ...</td>\n",
       "    </tr>\n",
       "    <tr>\n",
       "      <th>2</th>\n",
       "      <td>So I honestly picked this place strictly based...</td>\n",
       "      <td>So I honestly picked this place strictly based...</td>\n",
       "      <td>5</td>\n",
       "      <td>20/11/2018</td>\n",
       "      <td>So I honestly picked this place strictly based...</td>\n",
       "    </tr>\n",
       "    <tr>\n",
       "      <th>3</th>\n",
       "      <td>This was our first dinner in London and we did...</td>\n",
       "      <td>This was our first dinner in London and we did...</td>\n",
       "      <td>5</td>\n",
       "      <td>8/10/2018</td>\n",
       "      <td>This was our first dinner in London and we did...</td>\n",
       "    </tr>\n",
       "    <tr>\n",
       "      <th>4</th>\n",
       "      <td>Absolute gem! We were so happy when we called ...</td>\n",
       "      <td>Absolute gem! We were so happy when we called ...</td>\n",
       "      <td>5</td>\n",
       "      <td>5/11/2018</td>\n",
       "      <td>Absolute gem! We were so happy when we called ...</td>\n",
       "    </tr>\n",
       "  </tbody>\n",
       "</table>\n",
       "</div>"
      ],
      "text/plain": [
       "                                              Review  \\\n",
       "0  Awesome in all regards. Unpretentious, fun, wa...   \n",
       "1  We were so happy when we called (last minute) ...   \n",
       "2  So I honestly picked this place strictly based...   \n",
       "3  This was our first dinner in London and we did...   \n",
       "4  Absolute gem! We were so happy when we called ...   \n",
       "\n",
       "                                               title  Rating        date  \\\n",
       "0  Awesome in all regards. Unpretentious, fun, wa...       5  30/11/2018   \n",
       "1  We were so happy when we called (last minute) ...       4    5/1/2019   \n",
       "2  So I honestly picked this place strictly based...       5  20/11/2018   \n",
       "3  This was our first dinner in London and we did...       5   8/10/2018   \n",
       "4  Absolute gem! We were so happy when we called ...       5   5/11/2018   \n",
       "\n",
       "                                          fullreview  \n",
       "0  Awesome in all regards. Unpretentious, fun, wa...  \n",
       "1  We were so happy when we called (last minute) ...  \n",
       "2  So I honestly picked this place strictly based...  \n",
       "3  This was our first dinner in London and we did...  \n",
       "4  Absolute gem! We were so happy when we called ...  "
      ]
     },
     "execution_count": 21,
     "metadata": {},
     "output_type": "execute_result"
    }
   ],
   "source": [
    "df.head()"
   ]
  },
  {
   "cell_type": "code",
   "execution_count": null,
   "metadata": {},
   "outputs": [],
   "source": [
    "print(pret)"
   ]
  },
  {
   "cell_type": "markdown",
   "metadata": {},
   "source": [
    "### Web Scrape 20 pages from tripadvisor"
   ]
  },
  {
   "cell_type": "code",
   "execution_count": 6,
   "metadata": {},
   "outputs": [
    {
     "name": "stdout",
     "output_type": "stream",
     "text": [
      "Getting reviews 0/ 20\n",
      "Diagnostics: Checking if dataframes are of equal size...\n",
      "Size: 10\n",
      "Size: 10\n",
      "Size: 10\n",
      "Size: 10\n",
      "Diagnostics complete!\n",
      "Getting reviews 1/ 20\n",
      "Getting reviews 2/ 20\n",
      "Getting reviews 3/ 20\n",
      "Getting reviews 4/ 20\n",
      "Error in reading - Re-reading\n",
      "Getting reviews 5/ 20\n",
      "Error in reading - Re-reading\n",
      "Getting reviews 6/ 20\n",
      "Getting reviews 7/ 20\n",
      "Getting reviews 8/ 20\n",
      "Getting reviews 9/ 20\n",
      "Getting reviews 10/ 20\n",
      "Diagnostics: Checking if dataframes are of equal size...\n",
      "Size: 10\n",
      "Size: 10\n",
      "Size: 10\n",
      "Size: 10\n",
      "Diagnostics complete!\n",
      "Getting reviews 11/ 20\n",
      "Getting reviews 12/ 20\n",
      "Getting reviews 13/ 20\n",
      "Getting reviews 14/ 20\n",
      "Getting reviews 15/ 20\n",
      "Error in reading - Re-reading\n",
      "Error in reading - Re-reading\n",
      "Getting reviews 16/ 20\n",
      "Error in reading - Re-reading\n",
      "Getting reviews 17/ 20\n",
      "Getting reviews 18/ 20\n",
      "Getting reviews 19/ 20\n",
      "Error in reading - Re-reading\n",
      "Getting reviews 20/ 20\n",
      "Complete!!!\n"
     ]
    }
   ],
   "source": [
    "inurl1 = \"https://www.tripadvisor.co.uk/Restaurant_Review-g186338-d2570383-Reviews\"\n",
    "inurl2 = \"-Cafe_in_the_Crypt-London_England.html\"\n",
    "\n",
    "df_full = fullscraper(site='tripadvisor',first_url=inurl1+inurl2,url1=inurl1,\\\n",
    "                      url2=inurl2,increment_string1=\"-or\",increment_string2=\"\",\\\n",
    "                      total_pages=20,increment=10,output_file='testing.csv')"
   ]
  },
  {
   "cell_type": "markdown",
   "metadata": {},
   "source": [
    "We look at the first 5 rows:"
   ]
  },
  {
   "cell_type": "code",
   "execution_count": 7,
   "metadata": {},
   "outputs": [
    {
     "data": {
      "text/html": [
       "<div>\n",
       "<style scoped>\n",
       "    .dataframe tbody tr th:only-of-type {\n",
       "        vertical-align: middle;\n",
       "    }\n",
       "\n",
       "    .dataframe tbody tr th {\n",
       "        vertical-align: top;\n",
       "    }\n",
       "\n",
       "    .dataframe thead th {\n",
       "        text-align: right;\n",
       "    }\n",
       "</style>\n",
       "<table border=\"1\" class=\"dataframe\">\n",
       "  <thead>\n",
       "    <tr style=\"text-align: right;\">\n",
       "      <th></th>\n",
       "      <th>Review</th>\n",
       "      <th>title</th>\n",
       "      <th>Rating</th>\n",
       "      <th>date</th>\n",
       "      <th>fullreview</th>\n",
       "    </tr>\n",
       "  </thead>\n",
       "  <tbody>\n",
       "    <tr>\n",
       "      <th>0</th>\n",
       "      <td>On a Friday evening before our late night at t...</td>\n",
       "      <td>Crazy busy for Friday dinner</td>\n",
       "      <td>3</td>\n",
       "      <td>Reviewed yesterday</td>\n",
       "      <td>On a Friday evening before our late night at t...</td>\n",
       "    </tr>\n",
       "    <tr>\n",
       "      <th>1</th>\n",
       "      <td>I love this cafe. Not only are the prices reas...</td>\n",
       "      <td>Unusual surroundings for a coffee</td>\n",
       "      <td>4</td>\n",
       "      <td>Reviewed 2 days ago</td>\n",
       "      <td>I love this cafe. Not only are the prices reas...</td>\n",
       "    </tr>\n",
       "    <tr>\n",
       "      <th>2</th>\n",
       "      <td>I was told to go to the Cafe in the Crypt by a...</td>\n",
       "      <td>Great venue, good food</td>\n",
       "      <td>5</td>\n",
       "      <td>Reviewed 2 days ago</td>\n",
       "      <td>I was told to go to the Cafe in the Crypt by a...</td>\n",
       "    </tr>\n",
       "    <tr>\n",
       "      <th>3</th>\n",
       "      <td>Took some Australian relations here during a v...</td>\n",
       "      <td>Novel</td>\n",
       "      <td>5</td>\n",
       "      <td>Reviewed 5 days ago</td>\n",
       "      <td>Took some Australian relations here during a v...</td>\n",
       "    </tr>\n",
       "    <tr>\n",
       "      <th>4</th>\n",
       "      <td>Visited after walking through Trafalgar Square...</td>\n",
       "      <td>Quick drink and snack</td>\n",
       "      <td>5</td>\n",
       "      <td>Reviewed 1 week ago</td>\n",
       "      <td>Visited after walking through Trafalgar Square...</td>\n",
       "    </tr>\n",
       "  </tbody>\n",
       "</table>\n",
       "</div>"
      ],
      "text/plain": [
       "                                              Review  \\\n",
       "0  On a Friday evening before our late night at t...   \n",
       "1  I love this cafe. Not only are the prices reas...   \n",
       "2  I was told to go to the Cafe in the Crypt by a...   \n",
       "3  Took some Australian relations here during a v...   \n",
       "4  Visited after walking through Trafalgar Square...   \n",
       "\n",
       "                               title  Rating                  date  \\\n",
       "0       Crazy busy for Friday dinner       3   Reviewed yesterday    \n",
       "1  Unusual surroundings for a coffee       4  Reviewed 2 days ago    \n",
       "2             Great venue, good food       5  Reviewed 2 days ago    \n",
       "3                              Novel       5  Reviewed 5 days ago    \n",
       "4              Quick drink and snack       5  Reviewed 1 week ago    \n",
       "\n",
       "                                          fullreview  \n",
       "0  On a Friday evening before our late night at t...  \n",
       "1  I love this cafe. Not only are the prices reas...  \n",
       "2  I was told to go to the Cafe in the Crypt by a...  \n",
       "3  Took some Australian relations here during a v...  \n",
       "4  Visited after walking through Trafalgar Square...  "
      ]
     },
     "execution_count": 7,
     "metadata": {},
     "output_type": "execute_result"
    }
   ],
   "source": [
    "df_full.head()"
   ]
  },
  {
   "cell_type": "markdown",
   "metadata": {},
   "source": [
    "Looks good. We look at the number of rows and columns:"
   ]
  },
  {
   "cell_type": "code",
   "execution_count": 8,
   "metadata": {},
   "outputs": [
    {
     "data": {
      "text/plain": [
       "(200, 5)"
      ]
     },
     "execution_count": 8,
     "metadata": {},
     "output_type": "execute_result"
    }
   ],
   "source": [
    "df_full.shape"
   ]
  },
  {
   "cell_type": "markdown",
   "metadata": {},
   "source": [
    "Looks good. We check if there were any read errors (null entries):"
   ]
  },
  {
   "cell_type": "code",
   "execution_count": 9,
   "metadata": {},
   "outputs": [
    {
     "name": "stdout",
     "output_type": "stream",
     "text": [
      "<class 'pandas.core.frame.DataFrame'>\n",
      "RangeIndex: 200 entries, 0 to 199\n",
      "Data columns (total 5 columns):\n",
      "Review        200 non-null object\n",
      "title         200 non-null object\n",
      "Rating        200 non-null int64\n",
      "date          200 non-null object\n",
      "fullreview    200 non-null object\n",
      "dtypes: int64(1), object(4)\n",
      "memory usage: 7.9+ KB\n"
     ]
    }
   ],
   "source": [
    "df_full.info()"
   ]
  },
  {
   "cell_type": "markdown",
   "metadata": {},
   "source": [
    "Also looks good. We look at the number of unique entries:"
   ]
  },
  {
   "cell_type": "code",
   "execution_count": 10,
   "metadata": {},
   "outputs": [
    {
     "name": "stdout",
     "output_type": "stream",
     "text": [
      "200\n",
      "199\n"
     ]
    }
   ],
   "source": [
    "print(df_full['Review'].nunique())\n",
    "print(df_full['title'].nunique())"
   ]
  },
  {
   "cell_type": "markdown",
   "metadata": {},
   "source": [
    "There is a title of a review that is duplicated. We check to see which one that is:"
   ]
  },
  {
   "cell_type": "code",
   "execution_count": 11,
   "metadata": {},
   "outputs": [
    {
     "data": {
      "text/html": [
       "<div>\n",
       "<style scoped>\n",
       "    .dataframe tbody tr th:only-of-type {\n",
       "        vertical-align: middle;\n",
       "    }\n",
       "\n",
       "    .dataframe tbody tr th {\n",
       "        vertical-align: top;\n",
       "    }\n",
       "\n",
       "    .dataframe thead th {\n",
       "        text-align: right;\n",
       "    }\n",
       "</style>\n",
       "<table border=\"1\" class=\"dataframe\">\n",
       "  <thead>\n",
       "    <tr style=\"text-align: right;\">\n",
       "      <th></th>\n",
       "      <th>Review</th>\n",
       "      <th>Rating</th>\n",
       "      <th>date</th>\n",
       "      <th>fullreview</th>\n",
       "    </tr>\n",
       "    <tr>\n",
       "      <th>title</th>\n",
       "      <th></th>\n",
       "      <th></th>\n",
       "      <th></th>\n",
       "      <th></th>\n",
       "    </tr>\n",
       "  </thead>\n",
       "  <tbody>\n",
       "    <tr>\n",
       "      <th>Lovely</th>\n",
       "      <td>2</td>\n",
       "      <td>2</td>\n",
       "      <td>2</td>\n",
       "      <td>2</td>\n",
       "    </tr>\n",
       "  </tbody>\n",
       "</table>\n",
       "</div>"
      ],
      "text/plain": [
       "        Review  Rating  date  fullreview\n",
       "title                                   \n",
       "Lovely       2       2     2           2"
      ]
     },
     "execution_count": 11,
     "metadata": {},
     "output_type": "execute_result"
    }
   ],
   "source": [
    "grp = df_full.groupby('title').count()\n",
    "grp[grp['date'] > 1]"
   ]
  },
  {
   "cell_type": "markdown",
   "metadata": {},
   "source": [
    "The title that is not unique is 'Lovely'. Let's look at whether this is a legitimate duplicate and not an error:"
   ]
  },
  {
   "cell_type": "code",
   "execution_count": 12,
   "metadata": {},
   "outputs": [
    {
     "data": {
      "text/html": [
       "<div>\n",
       "<style scoped>\n",
       "    .dataframe tbody tr th:only-of-type {\n",
       "        vertical-align: middle;\n",
       "    }\n",
       "\n",
       "    .dataframe tbody tr th {\n",
       "        vertical-align: top;\n",
       "    }\n",
       "\n",
       "    .dataframe thead th {\n",
       "        text-align: right;\n",
       "    }\n",
       "</style>\n",
       "<table border=\"1\" class=\"dataframe\">\n",
       "  <thead>\n",
       "    <tr style=\"text-align: right;\">\n",
       "      <th></th>\n",
       "      <th>Review</th>\n",
       "      <th>title</th>\n",
       "      <th>Rating</th>\n",
       "      <th>date</th>\n",
       "      <th>fullreview</th>\n",
       "    </tr>\n",
       "  </thead>\n",
       "  <tbody>\n",
       "    <tr>\n",
       "      <th>94</th>\n",
       "      <td>A calm quiet place and comparatively inexpensi...</td>\n",
       "      <td>Lovely</td>\n",
       "      <td>5</td>\n",
       "      <td>Reviewed 19 June 2018</td>\n",
       "      <td>A calm quiet place and comparatively inexpensi...</td>\n",
       "    </tr>\n",
       "    <tr>\n",
       "      <th>152</th>\n",
       "      <td>Beautiful environment. Busy but well stocked a...</td>\n",
       "      <td>Lovely</td>\n",
       "      <td>5</td>\n",
       "      <td>Reviewed 10 March 2018</td>\n",
       "      <td>Beautiful environment. Busy but well stocked a...</td>\n",
       "    </tr>\n",
       "  </tbody>\n",
       "</table>\n",
       "</div>"
      ],
      "text/plain": [
       "                                                Review   title  Rating  \\\n",
       "94   A calm quiet place and comparatively inexpensi...  Lovely       5   \n",
       "152  Beautiful environment. Busy but well stocked a...  Lovely       5   \n",
       "\n",
       "                        date  \\\n",
       "94    Reviewed 19 June 2018    \n",
       "152  Reviewed 10 March 2018    \n",
       "\n",
       "                                            fullreview  \n",
       "94   A calm quiet place and comparatively inexpensi...  \n",
       "152  Beautiful environment. Busy but well stocked a...  "
      ]
     },
     "execution_count": 12,
     "metadata": {},
     "output_type": "execute_result"
    }
   ],
   "source": [
    "df_full[df_full['title'] == 'Lovely']"
   ]
  },
  {
   "cell_type": "markdown",
   "metadata": {},
   "source": [
    "Looks legitimate!"
   ]
  },
  {
   "cell_type": "markdown",
   "metadata": {},
   "source": [
    "## Web Scrape one page from Yelp"
   ]
  },
  {
   "cell_type": "code",
   "execution_count": 13,
   "metadata": {},
   "outputs": [
    {
     "name": "stdout",
     "output_type": "stream",
     "text": [
      "Diagnostics: Checking if dataframes are of equal size...\n",
      "Size: 20\n",
      "Size: 20\n",
      "Size: 20\n",
      "Diagnostics complete!\n"
     ]
    }
   ],
   "source": [
    "df,success = webscrape(\"https://www.yelp.co.uk/biz/ffionas-restaurant-london?\\\n",
    "osq=Restaurants\",'yelp',False)"
   ]
  },
  {
   "cell_type": "code",
   "execution_count": 14,
   "metadata": {},
   "outputs": [
    {
     "data": {
      "text/html": [
       "<div>\n",
       "<style scoped>\n",
       "    .dataframe tbody tr th:only-of-type {\n",
       "        vertical-align: middle;\n",
       "    }\n",
       "\n",
       "    .dataframe tbody tr th {\n",
       "        vertical-align: top;\n",
       "    }\n",
       "\n",
       "    .dataframe thead th {\n",
       "        text-align: right;\n",
       "    }\n",
       "</style>\n",
       "<table border=\"1\" class=\"dataframe\">\n",
       "  <thead>\n",
       "    <tr style=\"text-align: right;\">\n",
       "      <th></th>\n",
       "      <th>Review</th>\n",
       "      <th>title</th>\n",
       "      <th>Rating</th>\n",
       "      <th>date</th>\n",
       "      <th>fullreview</th>\n",
       "    </tr>\n",
       "  </thead>\n",
       "  <tbody>\n",
       "    <tr>\n",
       "      <th>0</th>\n",
       "      <td>Awesome in all regards. Unpretentious, fun, wa...</td>\n",
       "      <td>Awesome in all regards. Unpretentious, fun, wa...</td>\n",
       "      <td>5</td>\n",
       "      <td>30/11/2018</td>\n",
       "      <td>Awesome in all regards. Unpretentious, fun, wa...</td>\n",
       "    </tr>\n",
       "    <tr>\n",
       "      <th>1</th>\n",
       "      <td>We were so happy when we called (last minute) ...</td>\n",
       "      <td>We were so happy when we called (last minute) ...</td>\n",
       "      <td>4</td>\n",
       "      <td>5/1/2019</td>\n",
       "      <td>We were so happy when we called (last minute) ...</td>\n",
       "    </tr>\n",
       "    <tr>\n",
       "      <th>2</th>\n",
       "      <td>So I honestly picked this place strictly based...</td>\n",
       "      <td>So I honestly picked this place strictly based...</td>\n",
       "      <td>5</td>\n",
       "      <td>20/11/2018</td>\n",
       "      <td>So I honestly picked this place strictly based...</td>\n",
       "    </tr>\n",
       "    <tr>\n",
       "      <th>3</th>\n",
       "      <td>This was our first dinner in London and we did...</td>\n",
       "      <td>This was our first dinner in London and we did...</td>\n",
       "      <td>5</td>\n",
       "      <td>8/10/2018</td>\n",
       "      <td>This was our first dinner in London and we did...</td>\n",
       "    </tr>\n",
       "    <tr>\n",
       "      <th>4</th>\n",
       "      <td>Absolute gem! We were so happy when we called ...</td>\n",
       "      <td>Absolute gem! We were so happy when we called ...</td>\n",
       "      <td>5</td>\n",
       "      <td>5/11/2018</td>\n",
       "      <td>Absolute gem! We were so happy when we called ...</td>\n",
       "    </tr>\n",
       "  </tbody>\n",
       "</table>\n",
       "</div>"
      ],
      "text/plain": [
       "                                              Review  \\\n",
       "0  Awesome in all regards. Unpretentious, fun, wa...   \n",
       "1  We were so happy when we called (last minute) ...   \n",
       "2  So I honestly picked this place strictly based...   \n",
       "3  This was our first dinner in London and we did...   \n",
       "4  Absolute gem! We were so happy when we called ...   \n",
       "\n",
       "                                               title  Rating        date  \\\n",
       "0  Awesome in all regards. Unpretentious, fun, wa...       5  30/11/2018   \n",
       "1  We were so happy when we called (last minute) ...       4    5/1/2019   \n",
       "2  So I honestly picked this place strictly based...       5  20/11/2018   \n",
       "3  This was our first dinner in London and we did...       5   8/10/2018   \n",
       "4  Absolute gem! We were so happy when we called ...       5   5/11/2018   \n",
       "\n",
       "                                          fullreview  \n",
       "0  Awesome in all regards. Unpretentious, fun, wa...  \n",
       "1  We were so happy when we called (last minute) ...  \n",
       "2  So I honestly picked this place strictly based...  \n",
       "3  This was our first dinner in London and we did...  \n",
       "4  Absolute gem! We were so happy when we called ...  "
      ]
     },
     "execution_count": 14,
     "metadata": {},
     "output_type": "execute_result"
    }
   ],
   "source": [
    "df.head()"
   ]
  },
  {
   "cell_type": "markdown",
   "metadata": {},
   "source": [
    "### Web Scrape 10 pages from yelp"
   ]
  },
  {
   "cell_type": "code",
   "execution_count": 15,
   "metadata": {},
   "outputs": [
    {
     "name": "stdout",
     "output_type": "stream",
     "text": [
      "Getting reviews 0/ 10\n",
      "Diagnostics: Checking if dataframes are of equal size...\n",
      "Size: 20\n",
      "Size: 20\n",
      "Size: 20\n",
      "Diagnostics complete!\n",
      "Getting reviews 1/ 10\n",
      "Getting reviews 2/ 10\n",
      "Getting reviews 3/ 10\n",
      "Getting reviews 4/ 10\n",
      "Getting reviews 5/ 10\n",
      "Getting reviews 6/ 10\n",
      "Getting reviews 7/ 10\n",
      "Getting reviews 8/ 10\n",
      "Getting reviews 9/ 10\n",
      "Getting reviews 10/ 10\n",
      "Complete!!!\n"
     ]
    }
   ],
   "source": [
    "inurl1 = \"https://www.yelp.co.uk/biz/ffionas-restaurant-london\"\n",
    "inurl2 = \"\"\n",
    "\n",
    "df_full = fullscraper(site='yelp',first_url=inurl1+inurl2,url1=inurl1,url2=inurl2,\\\n",
    "                      increment_string1=\"?start=\",increment_string2=\"\",\\\n",
    "                      total_pages=10,increment=20,output_file='testing.csv')"
   ]
  },
  {
   "cell_type": "markdown",
   "metadata": {},
   "source": [
    "We look at the first 5 rows:"
   ]
  },
  {
   "cell_type": "code",
   "execution_count": 16,
   "metadata": {},
   "outputs": [
    {
     "data": {
      "text/html": [
       "<div>\n",
       "<style scoped>\n",
       "    .dataframe tbody tr th:only-of-type {\n",
       "        vertical-align: middle;\n",
       "    }\n",
       "\n",
       "    .dataframe tbody tr th {\n",
       "        vertical-align: top;\n",
       "    }\n",
       "\n",
       "    .dataframe thead th {\n",
       "        text-align: right;\n",
       "    }\n",
       "</style>\n",
       "<table border=\"1\" class=\"dataframe\">\n",
       "  <thead>\n",
       "    <tr style=\"text-align: right;\">\n",
       "      <th></th>\n",
       "      <th>Review</th>\n",
       "      <th>title</th>\n",
       "      <th>Rating</th>\n",
       "      <th>date</th>\n",
       "      <th>fullreview</th>\n",
       "    </tr>\n",
       "  </thead>\n",
       "  <tbody>\n",
       "    <tr>\n",
       "      <th>0</th>\n",
       "      <td>Awesome in all regards. Unpretentious, fun, wa...</td>\n",
       "      <td>Awesome in all regards. Unpretentious, fun, wa...</td>\n",
       "      <td>5</td>\n",
       "      <td>30/11/2018</td>\n",
       "      <td>Awesome in all regards. Unpretentious, fun, wa...</td>\n",
       "    </tr>\n",
       "    <tr>\n",
       "      <th>1</th>\n",
       "      <td>We were so happy when we called (last minute) ...</td>\n",
       "      <td>We were so happy when we called (last minute) ...</td>\n",
       "      <td>4</td>\n",
       "      <td>5/1/2019</td>\n",
       "      <td>We were so happy when we called (last minute) ...</td>\n",
       "    </tr>\n",
       "    <tr>\n",
       "      <th>2</th>\n",
       "      <td>So I honestly picked this place strictly based...</td>\n",
       "      <td>So I honestly picked this place strictly based...</td>\n",
       "      <td>5</td>\n",
       "      <td>20/11/2018</td>\n",
       "      <td>So I honestly picked this place strictly based...</td>\n",
       "    </tr>\n",
       "    <tr>\n",
       "      <th>3</th>\n",
       "      <td>This was our first dinner in London and we did...</td>\n",
       "      <td>This was our first dinner in London and we did...</td>\n",
       "      <td>5</td>\n",
       "      <td>8/10/2018</td>\n",
       "      <td>This was our first dinner in London and we did...</td>\n",
       "    </tr>\n",
       "    <tr>\n",
       "      <th>4</th>\n",
       "      <td>Absolute gem! We were so happy when we called ...</td>\n",
       "      <td>Absolute gem! We were so happy when we called ...</td>\n",
       "      <td>5</td>\n",
       "      <td>5/11/2018</td>\n",
       "      <td>Absolute gem! We were so happy when we called ...</td>\n",
       "    </tr>\n",
       "  </tbody>\n",
       "</table>\n",
       "</div>"
      ],
      "text/plain": [
       "                                              Review  \\\n",
       "0  Awesome in all regards. Unpretentious, fun, wa...   \n",
       "1  We were so happy when we called (last minute) ...   \n",
       "2  So I honestly picked this place strictly based...   \n",
       "3  This was our first dinner in London and we did...   \n",
       "4  Absolute gem! We were so happy when we called ...   \n",
       "\n",
       "                                               title  Rating        date  \\\n",
       "0  Awesome in all regards. Unpretentious, fun, wa...       5  30/11/2018   \n",
       "1  We were so happy when we called (last minute) ...       4    5/1/2019   \n",
       "2  So I honestly picked this place strictly based...       5  20/11/2018   \n",
       "3  This was our first dinner in London and we did...       5   8/10/2018   \n",
       "4  Absolute gem! We were so happy when we called ...       5   5/11/2018   \n",
       "\n",
       "                                          fullreview  \n",
       "0  Awesome in all regards. Unpretentious, fun, wa...  \n",
       "1  We were so happy when we called (last minute) ...  \n",
       "2  So I honestly picked this place strictly based...  \n",
       "3  This was our first dinner in London and we did...  \n",
       "4  Absolute gem! We were so happy when we called ...  "
      ]
     },
     "execution_count": 16,
     "metadata": {},
     "output_type": "execute_result"
    }
   ],
   "source": [
    "df_full.head()"
   ]
  },
  {
   "cell_type": "markdown",
   "metadata": {},
   "source": [
    "Looks good. We look at the number of rows and columns:"
   ]
  },
  {
   "cell_type": "code",
   "execution_count": 17,
   "metadata": {},
   "outputs": [
    {
     "data": {
      "text/plain": [
       "(200, 5)"
      ]
     },
     "execution_count": 17,
     "metadata": {},
     "output_type": "execute_result"
    }
   ],
   "source": [
    "df_full.shape"
   ]
  },
  {
   "cell_type": "markdown",
   "metadata": {},
   "source": [
    "Looks good. We check if there were any read errors (null entries):"
   ]
  },
  {
   "cell_type": "code",
   "execution_count": 18,
   "metadata": {},
   "outputs": [
    {
     "name": "stdout",
     "output_type": "stream",
     "text": [
      "<class 'pandas.core.frame.DataFrame'>\n",
      "RangeIndex: 200 entries, 0 to 199\n",
      "Data columns (total 5 columns):\n",
      "Review        200 non-null object\n",
      "title         200 non-null object\n",
      "Rating        200 non-null int64\n",
      "date          200 non-null object\n",
      "fullreview    200 non-null object\n",
      "dtypes: int64(1), object(4)\n",
      "memory usage: 7.9+ KB\n"
     ]
    }
   ],
   "source": [
    "df_full.info()"
   ]
  },
  {
   "cell_type": "markdown",
   "metadata": {},
   "source": [
    "Also looks good. We look at the number of unique entries:"
   ]
  },
  {
   "cell_type": "code",
   "execution_count": 19,
   "metadata": {},
   "outputs": [
    {
     "name": "stdout",
     "output_type": "stream",
     "text": [
      "200\n",
      "200\n"
     ]
    }
   ],
   "source": [
    "print(df_full['Review'].nunique())\n",
    "print(df_full['title'].nunique())"
   ]
  },
  {
   "cell_type": "markdown",
   "metadata": {},
   "source": [
    "Looks good!!!"
   ]
  },
  {
   "cell_type": "code",
   "execution_count": null,
   "metadata": {},
   "outputs": [],
   "source": []
  }
 ],
 "metadata": {
  "kernelspec": {
   "display_name": "Python 3",
   "language": "python",
   "name": "python3"
  },
  "language_info": {
   "codemirror_mode": {
    "name": "ipython",
    "version": 3
   },
   "file_extension": ".py",
   "mimetype": "text/x-python",
   "name": "python",
   "nbconvert_exporter": "python",
   "pygments_lexer": "ipython3",
   "version": "3.6.4"
  }
 },
 "nbformat": 4,
 "nbformat_minor": 2
}
